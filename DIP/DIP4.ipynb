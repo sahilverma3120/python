{
 "cells": [
  {
   "cell_type": "markdown",
   "metadata": {},
   "source": [
    "### Salt and Pepper noise removal"
   ]
  },
  {
   "cell_type": "markdown",
   "metadata": {},
   "source": [
    "### Adding salt and pepper noise to original image"
   ]
  },
  {
   "cell_type": "code",
   "execution_count": 2,
   "metadata": {},
   "outputs": [],
   "source": [
    "import cv2\n",
    "import numpy as np\n",
    "import random"
   ]
  },
  {
   "cell_type": "code",
   "execution_count": 3,
   "metadata": {},
   "outputs": [
    {
     "data": {
      "text/plain": [
       "True"
      ]
     },
     "execution_count": 3,
     "metadata": {},
     "output_type": "execute_result"
    }
   ],
   "source": [
    "def add_noise(img):\n",
    "    row , col = img.shape\n",
    "    number_of_pixels = random.randint(300, 10000)\n",
    "    for i in range(number_of_pixels):\n",
    "        y_coord=random.randint(0, row - 1)       #random y coord\n",
    "        x_coord=random.randint(0, col - 1)       #random x coord\n",
    "        img[y_coord][x_coord] = 255            #coloring pixel to white\n",
    "        \n",
    "    number_of_pixels = random.randint(300 , 10000)\n",
    "    for i in range(number_of_pixels):\n",
    "        y_coord=random.randint(0, row - 1)\n",
    "        x_coord=random.randint(0, col - 1)\n",
    "        img[y_coord][x_coord] = 0           #coloring pixel to black\n",
    "    return img\n",
    "\n",
    "img = cv2.imread('Pooh.jpg',\n",
    "                 cv2.IMREAD_GRAYSCALE)\n",
    "cv2.imwrite('salt_pepper_pooh.jpg',\n",
    "            add_noise(img))"
   ]
  },
  {
   "cell_type": "markdown",
   "metadata": {},
   "source": [
    "### a) Median Filter"
   ]
  },
  {
   "cell_type": "code",
   "execution_count": 6,
   "metadata": {},
   "outputs": [
    {
     "data": {
      "text/plain": [
       "<function destroyAllWindows>"
      ]
     },
     "execution_count": 6,
     "metadata": {},
     "output_type": "execute_result"
    }
   ],
   "source": [
    "org_img = cv2.imread('salt_pepper_pooh.jpg') \n",
    "median_img = cv2.medianBlur(org_img, 5) \n",
    "cv2.imshow('rmv_noise_med', median_img) \n",
    "cv2.waitKey(0)        \n",
    "cv2.destroyAllWindows "
   ]
  },
  {
   "cell_type": "markdown",
   "metadata": {},
   "source": [
    "### b) Average Filter"
   ]
  },
  {
   "cell_type": "code",
   "execution_count": 7,
   "metadata": {},
   "outputs": [
    {
     "data": {
      "text/plain": [
       "<function destroyAllWindows>"
      ]
     },
     "execution_count": 7,
     "metadata": {},
     "output_type": "execute_result"
    }
   ],
   "source": [
    "org_img = cv2.imread('salt_pepper_pooh.jpg')\n",
    "mean_img = cv2.blur(org_img,(9,9))\n",
    "cv2.imshow('rmv_img_mean',mean_img)\n",
    "cv2.waitKey(0)       \n",
    "cv2.destroyAllWindows"
   ]
  },
  {
   "cell_type": "markdown",
   "metadata": {},
   "source": [
    "### Gaussian Noise Removal"
   ]
  },
  {
   "cell_type": "markdown",
   "metadata": {},
   "source": [
    "### Adding gaussian noise"
   ]
  },
  {
   "cell_type": "markdown",
   "metadata": {},
   "source": [
    "### a) Wiener Filter"
   ]
  },
  {
   "cell_type": "code",
   "execution_count": 10,
   "metadata": {},
   "outputs": [],
   "source": [
    "def add_gauss_noise(img,sigma):\n",
    "    gauss = np.random.normal(0,sigma,np.shape(img))\n",
    "    noisy_img = img + gauss\n",
    "    noisy_img[noisy_img < 0] = 0\n",
    "    noisy_img[noisy_img > 255] = 255\n",
    "    return noisy_img\n",
    "\n",
    "def wiener_filter(img,kernel,K):\n",
    "    kernel /= np.sum(kernel)\n",
    "    dummy = np.copy(img)\n",
    "    dummy = fft2(dummy)\n",
    "    kernel = fft2(kernel,s = img.shape)\n",
    "    kernel = np.conj(kernel) / (np.abs(kernel) ** 2+K)\n",
    "    dummy = dummy * kernel\n",
    "    dummy = np.abs(ifft2(dummy))\n",
    "    return dummy\n",
    "\n",
    "def gaussian_kernel(kernel_size=3):\n",
    "    h = gaussian(kernel_size, kernel_size / 3).reshape(kernel_size,1)\n",
    "    h = np.dot(h,h.transpose())\n",
    "    h /= np.sum(h)\n",
    "    return h"
   ]
  },
  {
   "cell_type": "code",
   "execution_count": 11,
   "metadata": {},
   "outputs": [
    {
     "ename": "TypeError",
     "evalue": "unsupported operand type(s) for +: 'NoneType' and 'float'",
     "output_type": "error",
     "traceback": [
      "\u001b[1;31m---------------------------------------------------------------------------\u001b[0m",
      "\u001b[1;31mTypeError\u001b[0m                                 Traceback (most recent call last)",
      "\u001b[1;32m<ipython-input-11-185ab0890fc5>\u001b[0m in \u001b[0;36m<module>\u001b[1;34m\u001b[0m\n\u001b[0;32m      1\u001b[0m \u001b[0mimg\u001b[0m \u001b[1;33m=\u001b[0m \u001b[0mcv2\u001b[0m\u001b[1;33m.\u001b[0m\u001b[0mimread\u001b[0m\u001b[1;33m(\u001b[0m\u001b[1;34m'lady.jpg'\u001b[0m\u001b[1;33m,\u001b[0m\u001b[1;36m0\u001b[0m\u001b[1;33m)\u001b[0m\u001b[1;33m\u001b[0m\u001b[1;33m\u001b[0m\u001b[0m\n\u001b[0;32m      2\u001b[0m \u001b[1;33m\u001b[0m\u001b[0m\n\u001b[1;32m----> 3\u001b[1;33m \u001b[0mnoisy_img\u001b[0m \u001b[1;33m=\u001b[0m \u001b[0madd_gauss_noise\u001b[0m\u001b[1;33m(\u001b[0m\u001b[0mimg\u001b[0m\u001b[1;33m,\u001b[0m\u001b[0msigma\u001b[0m\u001b[1;33m=\u001b[0m\u001b[1;36m20\u001b[0m\u001b[1;33m)\u001b[0m\u001b[1;33m\u001b[0m\u001b[1;33m\u001b[0m\u001b[0m\n\u001b[0m\u001b[0;32m      4\u001b[0m \u001b[0mcv2\u001b[0m\u001b[1;33m.\u001b[0m\u001b[0mimwrite\u001b[0m\u001b[1;33m(\u001b[0m\u001b[1;34m'noisy_gauss_2.jpg'\u001b[0m\u001b[1;33m,\u001b[0m\u001b[0mnoisy_img\u001b[0m\u001b[1;33m)\u001b[0m\u001b[1;33m\u001b[0m\u001b[1;33m\u001b[0m\u001b[0m\n\u001b[0;32m      5\u001b[0m \u001b[1;33m\u001b[0m\u001b[0m\n",
      "\u001b[1;32m<ipython-input-10-2875fa12a095>\u001b[0m in \u001b[0;36madd_gauss_noise\u001b[1;34m(img, sigma)\u001b[0m\n\u001b[0;32m      1\u001b[0m \u001b[1;32mdef\u001b[0m \u001b[0madd_gauss_noise\u001b[0m\u001b[1;33m(\u001b[0m\u001b[0mimg\u001b[0m\u001b[1;33m,\u001b[0m\u001b[0msigma\u001b[0m\u001b[1;33m)\u001b[0m\u001b[1;33m:\u001b[0m\u001b[1;33m\u001b[0m\u001b[1;33m\u001b[0m\u001b[0m\n\u001b[0;32m      2\u001b[0m     \u001b[0mgauss\u001b[0m \u001b[1;33m=\u001b[0m \u001b[0mnp\u001b[0m\u001b[1;33m.\u001b[0m\u001b[0mrandom\u001b[0m\u001b[1;33m.\u001b[0m\u001b[0mnormal\u001b[0m\u001b[1;33m(\u001b[0m\u001b[1;36m0\u001b[0m\u001b[1;33m,\u001b[0m\u001b[0msigma\u001b[0m\u001b[1;33m,\u001b[0m\u001b[0mnp\u001b[0m\u001b[1;33m.\u001b[0m\u001b[0mshape\u001b[0m\u001b[1;33m(\u001b[0m\u001b[0mimg\u001b[0m\u001b[1;33m)\u001b[0m\u001b[1;33m)\u001b[0m\u001b[1;33m\u001b[0m\u001b[1;33m\u001b[0m\u001b[0m\n\u001b[1;32m----> 3\u001b[1;33m     \u001b[0mnoisy_img\u001b[0m \u001b[1;33m=\u001b[0m \u001b[0mimg\u001b[0m \u001b[1;33m+\u001b[0m \u001b[0mgauss\u001b[0m\u001b[1;33m\u001b[0m\u001b[1;33m\u001b[0m\u001b[0m\n\u001b[0m\u001b[0;32m      4\u001b[0m     \u001b[0mnoisy_img\u001b[0m\u001b[1;33m[\u001b[0m\u001b[0mnoisy_img\u001b[0m \u001b[1;33m<\u001b[0m \u001b[1;36m0\u001b[0m\u001b[1;33m]\u001b[0m \u001b[1;33m=\u001b[0m \u001b[1;36m0\u001b[0m\u001b[1;33m\u001b[0m\u001b[1;33m\u001b[0m\u001b[0m\n\u001b[0;32m      5\u001b[0m     \u001b[0mnoisy_img\u001b[0m\u001b[1;33m[\u001b[0m\u001b[0mnoisy_img\u001b[0m \u001b[1;33m>\u001b[0m \u001b[1;36m255\u001b[0m\u001b[1;33m]\u001b[0m \u001b[1;33m=\u001b[0m \u001b[1;36m255\u001b[0m\u001b[1;33m\u001b[0m\u001b[1;33m\u001b[0m\u001b[0m\n",
      "\u001b[1;31mTypeError\u001b[0m: unsupported operand type(s) for +: 'NoneType' and 'float'"
     ]
    }
   ],
   "source": [
    "img = cv2.imread('lady.jpg',0)\n",
    "\n",
    "noisy_img = add_gauss_noise(img,sigma=20)\n",
    "cv2.imwrite('noisy_gauss_2.jpg',noisy_img)\n",
    "\n",
    "kernel = gaussian_kernel(3)\n",
    "filtered_img = wiener_filter(noisy_img,kernel,K=10)\n",
    "cv2.imwrite('weiener.jpg',filtered_img)"
   ]
  },
  {
   "cell_type": "markdown",
   "metadata": {},
   "source": [
    "### Poisson Noise Removal"
   ]
  },
  {
   "cell_type": "code",
   "execution_count": 8,
   "metadata": {},
   "outputs": [],
   "source": [
    "import numpy as np\n",
    "import imageio\n",
    " \n",
    "img = 'Pooh.jpg'\n",
    " \n",
    "img = (imageio.imread(img)).astype(float)\n",
    " \n",
    "noise_mask = np.random.poisson(img)\n",
    " \n",
    "noise_img = img + noise_mask\n",
    " \n",
    "new = np.clip(noise_img, 0, 255).astype(np.uint8)\n",
    " \n",
    "imageio.imsave('new1.jpg',new)"
   ]
  },
  {
   "cell_type": "markdown",
   "metadata": {},
   "source": [
    "### a) Median Filter"
   ]
  },
  {
   "cell_type": "code",
   "execution_count": 9,
   "metadata": {},
   "outputs": [
    {
     "data": {
      "text/plain": [
       "<function destroyAllWindows>"
      ]
     },
     "execution_count": 9,
     "metadata": {},
     "output_type": "execute_result"
    }
   ],
   "source": [
    "org_img = cv2.imread('new1.jpg') \n",
    "median_img = cv2.medianBlur(org_img, 5) \n",
    "cv2.imshow('rmv_noise_med_pois1', median_img) \n",
    "cv2.waitKey(0)        \n",
    "cv2.destroyAllWindows "
   ]
  },
  {
   "cell_type": "code",
   "execution_count": null,
   "metadata": {},
   "outputs": [],
   "source": []
  }
 ],
 "metadata": {
  "kernelspec": {
   "display_name": "Python 3",
   "language": "python",
   "name": "python3"
  },
  "language_info": {
   "codemirror_mode": {
    "name": "ipython",
    "version": 3
   },
   "file_extension": ".py",
   "mimetype": "text/x-python",
   "name": "python",
   "nbconvert_exporter": "python",
   "pygments_lexer": "ipython3",
   "version": "3.8.5"
  }
 },
 "nbformat": 4,
 "nbformat_minor": 4
}